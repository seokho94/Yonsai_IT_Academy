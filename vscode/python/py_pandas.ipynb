{
 "cells": [
  {
   "cell_type": "code",
   "execution_count": 1,
   "metadata": {},
   "outputs": [
    {
     "name": "stdout",
     "output_type": "stream",
     "text": [
      "       성별   이름\n",
      "102365  남  김홍기\n",
      "206587  여  김진주\n",
      "185365      이범\n",
      "589655  남  김진주\n"
     ]
    }
   ],
   "source": [
    "import pandas as pd\n",
    "\n",
    "gender = pd.Series({\n",
    "    '102365' : '남',\n",
    "    '206587' : '여',\n",
    "    '185365' : '',\n",
    "    '589655' : '남'\n",
    "})\n",
    "\n",
    "name = pd.Series({\n",
    "    '102365' : '김홍기',\n",
    "    '206587' : '김진주',\n",
    "    '185365' : '이범',\n",
    "    '589655' : '김진주'\n",
    "})\n",
    "\n",
    "dic_group = {'성별' : gender, '이름' : name}\n",
    "Gym_member = pd.DataFrame(dic_group)\n",
    "\n",
    "print(Gym_member)"
   ]
  }
 ],
 "metadata": {
  "interpreter": {
   "hash": "341b3760ba24fccd3919d62a5a3f22a2c288a64a3bf2a5b2e8880b3a735e02c5"
  },
  "kernelspec": {
   "display_name": "Python 3.10.2 64-bit",
   "language": "python",
   "name": "python3"
  },
  "language_info": {
   "codemirror_mode": {
    "name": "ipython",
    "version": 3
   },
   "file_extension": ".py",
   "mimetype": "text/x-python",
   "name": "python",
   "nbconvert_exporter": "python",
   "pygments_lexer": "ipython3",
   "version": "3.10.2"
  },
  "orig_nbformat": 4
 },
 "nbformat": 4,
 "nbformat_minor": 2
}
