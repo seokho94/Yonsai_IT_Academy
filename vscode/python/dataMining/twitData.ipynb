{
 "cells": [
  {
   "cell_type": "code",
   "execution_count": 46,
   "metadata": {},
   "outputs": [],
   "source": [
    "%matplotlib inline\n",
    "import pandas as pd\n",
    "import numpy as np\n",
    "import matplotlib.pyplot as plt\n",
    "import warnings\n",
    "import tweepy\n",
    "warnings.filterwarnings(\"ignore\")\n",
    "\n",
    "f = open('C:\\\\Users\\\\YONSAI\\\\Desktop\\\\keys\\\\twtKey.txt', 'r')\n",
    "key_list = f.read().split(\"\\n\")\n",
    " \n",
    "CONSUMER_KEY = key_list[0]\n",
    "COUNSUMER_SECRET = key_list[1]\n",
    "ACCESS_TOKEN_KEY = key_list[2]\n",
    "ACCESS_TOKEN_SECRET = key_list[3]\n",
    "\n",
    "auth = tweepy.OAuthHandler(CONSUMER_KEY, COUNSUMER_SECRET)\n",
    "\n",
    "auth.set_access_token(ACCESS_TOKEN_KEY, ACCESS_TOKEN_SECRET)\n",
    "\n",
    "api = tweepy.API(auth)"
   ]
  },
  {
   "cell_type": "code",
   "execution_count": 47,
   "metadata": {},
   "outputs": [
    {
     "name": "stdout",
     "output_type": "stream",
     "text": [
      "RT @H_FinTech: The Lebanese government declares \"the state's bankruptcy\". Thus, when you own #XRP, you are safe from all these risks. #Cryp…\n",
      "[{'screen_name': 'H_FinTech', 'name': 'HASSAN ALANAZIم/حَسَنْ أَبَاأَلْرُوُسْ', 'id': 940710664246611970, 'id_str': '940710664246611970', 'indices': [3, 13]}]\n",
      "[{'text': 'XRP', 'indices': [93, 97]}]\n",
      "2022-04-05 01:19:00+00:00\n",
      "RT @TraderTenacious: Giving away 50 $strong tokens to 5 people.\n",
      "All you have to do is \n",
      "Like\n",
      "Retweet \n",
      "Follow \n",
      "Keep dms open\n",
      "\n",
      "$btc $eth $sol…\n",
      "[{'screen_name': 'TraderTenacious', 'name': 'TenaciousTrader', 'id': 1475979581723222022, 'id_str': '1475979581723222022', 'indices': [3, 19]}]\n",
      "[]\n",
      "2022-04-05 01:19:00+00:00\n",
      "@GranMag0 XRP\n",
      "[{'screen_name': 'GranMag0', 'name': '🧙\\u200d♂️ GranMago© 🔮', 'id': 1348649572353142786, 'id_str': '1348649572353142786', 'indices': [0, 9]}]\n",
      "[]\n",
      "2022-04-05 01:19:00+00:00\n",
      "RT @RealShibaDoge: ⚠️ 2013 - You missed #BTC\n",
      "⚠️ 2014 - You missed #DOGE\n",
      "⚠️ 2015 - You missed #XRP\n",
      "⚠️ 2016 - You missed #ETH\n",
      "⚠️ 2017 - You m…\n",
      "[{'screen_name': 'RealShibaDoge', 'name': 'Shiba Doge', 'id': 1474178850305110017, 'id_str': '1474178850305110017', 'indices': [3, 17]}]\n",
      "[{'text': 'BTC', 'indices': [40, 44]}, {'text': 'DOGE', 'indices': [66, 71]}, {'text': 'XRP', 'indices': [93, 97]}, {'text': 'ETH', 'indices': [119, 123]}]\n",
      "2022-04-05 01:18:58+00:00\n",
      "My profile is about to get verified on Sologenic, the first #NFT marketplace on the #XRPL. @realSologenic\n",
      "\n",
      "XIP only… https://t.co/gcMnCNNZAE\n",
      "[{'screen_name': 'realSologenic', 'name': 'Sologenic', 'id': 1169387731832602625, 'id_str': '1169387731832602625', 'indices': [91, 105]}]\n",
      "[{'text': 'NFT', 'indices': [60, 64]}, {'text': 'XRPL', 'indices': [84, 89]}]\n",
      "2022-04-05 01:18:58+00:00\n",
      "RT @cryptoPothu: $XRP in 9 tweets\n",
      "\n",
      "Here are the most important things you need to know about #XRP and the #XRPL\n",
      "\n",
      "A thread 🧵👇\n",
      "[{'screen_name': 'cryptoPothu', 'name': 'pothu', 'id': 1363569088241434627, 'id_str': '1363569088241434627', 'indices': [3, 15]}]\n",
      "[{'text': 'XRP', 'indices': [93, 97]}, {'text': 'XRPL', 'indices': [106, 111]}]\n",
      "2022-04-05 01:18:57+00:00\n",
      "RT @FilanLaw: #XRPCommunity #XRP #SECGov v. #Ripple #XRP Ripple responds to the SEC motion regarding the redactions, and relies on the SEC’…\n",
      "[{'screen_name': 'FilanLaw', 'name': 'James K. Filan 🇺🇸🇮🇪', 'id': 1290247555, 'id_str': '1290247555', 'indices': [3, 12]}]\n",
      "[{'text': 'XRPCommunity', 'indices': [14, 27]}, {'text': 'XRP', 'indices': [28, 32]}, {'text': 'SECGov', 'indices': [33, 40]}, {'text': 'Ripple', 'indices': [44, 51]}, {'text': 'XRP', 'indices': [52, 56]}]\n",
      "2022-04-05 01:18:54+00:00\n",
      "RT @FirstSmart4: What is your favorite project for this year? 👀\n",
      "#Cardano  #XRP #Solana \n",
      "#vote #cryptotrading #cryptocurrency #BTC\n",
      "[{'screen_name': 'FirstSmart4', 'name': 'First Smart Crypto', 'id': 1494631201289736202, 'id_str': '1494631201289736202', 'indices': [3, 15]}]\n",
      "[{'text': 'Cardano', 'indices': [64, 72]}, {'text': 'XRP', 'indices': [74, 78]}, {'text': 'Solana', 'indices': [79, 86]}, {'text': 'vote', 'indices': [88, 93]}, {'text': 'cryptotrading', 'indices': [94, 108]}, {'text': 'cryptocurrency', 'indices': [109, 124]}, {'text': 'BTC', 'indices': [125, 129]}]\n",
      "2022-04-05 01:18:51+00:00\n",
      "RT @TraderTenacious: Giving away 50 $strong tokens to 5 people.\n",
      "All you have to do is \n",
      "Like\n",
      "Retweet \n",
      "Follow \n",
      "Keep dms open\n",
      "\n",
      "$btc $eth $sol…\n",
      "[{'screen_name': 'TraderTenacious', 'name': 'TenaciousTrader', 'id': 1475979581723222022, 'id_str': '1475979581723222022', 'indices': [3, 19]}]\n",
      "[]\n",
      "2022-04-05 01:18:49+00:00\n",
      "RT @truthcrumbs: 🚨BREAKING: David Morgan Says On @Stansberry That “There’s Some Talk of [CBDC’s] Going on the Back of XRP or Some Other Cur…\n",
      "[{'screen_name': 'truthcrumbs', 'name': 'SpiritualWarlord🔺', 'id': 1267874438776848385, 'id_str': '1267874438776848385', 'indices': [3, 15]}, {'screen_name': 'Stansberry', 'name': 'Stansberry Research', 'id': 250665539, 'id_str': '250665539', 'indices': [49, 60]}]\n",
      "[]\n",
      "2022-04-05 01:18:46+00:00\n",
      "@rinobusterwins @XRPArmyNews1 @JohnEDeaton1 @Christo83585620 @Liz85139 I don't think so, he's done nothing but prov… https://t.co/Tp259Dg4Dk\n",
      "[{'screen_name': 'rinobusterwins', 'name': 'Batman', 'id': 1473651222016049153, 'id_str': '1473651222016049153', 'indices': [0, 15]}, {'screen_name': 'XRPArmyNews1', 'name': 'XRP Army News 1', 'id': 2808656258, 'id_str': '2808656258', 'indices': [16, 29]}, {'screen_name': 'JohnEDeaton1', 'name': 'John E Deaton', 'id': 1079853966681346048, 'id_str': '1079853966681346048', 'indices': [30, 43]}, {'screen_name': 'Christo83585620', 'name': 'crypto and bourbon', 'id': 1357830824842977281, 'id_str': '1357830824842977281', 'indices': [44, 60]}, {'screen_name': 'Liz85139', 'name': 'Crypto-Liz-Taylor #BlockChain #DeFi #XRP #Silver', 'id': 1182393350235639810, 'id_str': '1182393350235639810', 'indices': [61, 70]}]\n",
      "[]\n",
      "2022-04-05 01:18:45+00:00\n",
      "@XRP_Productions @elonmusk Legend 😂\n",
      "[{'screen_name': 'XRP_Productions', 'name': 'XRP the Standard Productions', 'id': 1131352246573195264, 'id_str': '1131352246573195264', 'indices': [0, 16]}, {'screen_name': 'elonmusk', 'name': 'Elon Musk', 'id': 44196397, 'id_str': '44196397', 'indices': [17, 26]}]\n",
      "[]\n",
      "2022-04-05 01:18:45+00:00\n",
      "We are delighted to announce that we will be adding XRP to our portfolio.\n",
      "[]\n",
      "[]\n",
      "2022-04-05 01:18:44+00:00\n",
      "@tycIoak I’m sorry 🥲  Rest In Peace 🙏\n",
      "[{'screen_name': 'tycIoak', 'name': 'cloak', 'id': 852702945325989888, 'id_str': '852702945325989888', 'indices': [0, 8]}]\n",
      "[]\n",
      "2022-04-05 01:18:40+00:00\n",
      "@realXRPwhale lawsuit doesnt matter.. xrp has zero future with or with out\n",
      "[{'screen_name': 'realXRPwhale', 'name': 'XRP whale', 'id': 3094381903, 'id_str': '3094381903', 'indices': [0, 13]}]\n",
      "[]\n",
      "2022-04-05 01:18:40+00:00\n"
     ]
    }
   ],
   "source": [
    "queryTopic = 'xrp'\n",
    "\n",
    "tweets = api.search_tweets(queryTopic)\n",
    "\n",
    "for tweet in tweets :\n",
    "    print(tweet.text)\n",
    "    print(tweet.entities['user_mentions'])\n",
    "    print(tweet.entities['hashtags'])\n",
    "    print(tweet.created_at)"
   ]
  },
  {
   "cell_type": "code",
   "execution_count": 48,
   "metadata": {},
   "outputs": [],
   "source": [
    "columns = ['created', 'tweet_text']\n",
    "df = pd.DataFrame(columns = columns)\n",
    "\n",
    "max_tweets = 1000\n",
    "searched_tweets = [status for status in tweepy.Cursor(api.search_tweets, q=queryTopic).items(max_tweets)]\n",
    "\n",
    "for tweet in searched_tweets:\n",
    "    tweet_json = tweet._json\n",
    "    tweet_text = tweet_json['text']\n",
    "    created = tweet_json['created_at']\n",
    "    row = [created, tweet_text]\n",
    "    series = pd.Series(row, index=df.columns)\n",
    "    df = df.append(series, ignore_index=True)"
   ]
  },
  {
   "cell_type": "code",
   "execution_count": 49,
   "metadata": {},
   "outputs": [],
   "source": [
    "df.to_csv(\"tweet_temp.csv\", index=False)"
   ]
  },
  {
   "cell_type": "code",
   "execution_count": 50,
   "metadata": {},
   "outputs": [
    {
     "data": {
      "text/html": [
       "<div>\n",
       "<style scoped>\n",
       "    .dataframe tbody tr th:only-of-type {\n",
       "        vertical-align: middle;\n",
       "    }\n",
       "\n",
       "    .dataframe tbody tr th {\n",
       "        vertical-align: top;\n",
       "    }\n",
       "\n",
       "    .dataframe thead th {\n",
       "        text-align: right;\n",
       "    }\n",
       "</style>\n",
       "<table border=\"1\" class=\"dataframe\">\n",
       "  <thead>\n",
       "    <tr style=\"text-align: right;\">\n",
       "      <th></th>\n",
       "      <th>created</th>\n",
       "      <th>tweet_text</th>\n",
       "    </tr>\n",
       "  </thead>\n",
       "  <tbody>\n",
       "    <tr>\n",
       "      <th>0</th>\n",
       "      <td>Tue Apr 05 01:19:00 +0000 2022</td>\n",
       "      <td>RT @H_FinTech: The Lebanese government declare...</td>\n",
       "    </tr>\n",
       "    <tr>\n",
       "      <th>1</th>\n",
       "      <td>Tue Apr 05 01:19:00 +0000 2022</td>\n",
       "      <td>RT @TraderTenacious: Giving away 50 $strong to...</td>\n",
       "    </tr>\n",
       "    <tr>\n",
       "      <th>2</th>\n",
       "      <td>Tue Apr 05 01:19:00 +0000 2022</td>\n",
       "      <td>@GranMag0 XRP</td>\n",
       "    </tr>\n",
       "    <tr>\n",
       "      <th>3</th>\n",
       "      <td>Tue Apr 05 01:18:58 +0000 2022</td>\n",
       "      <td>RT @RealShibaDoge: ⚠️ 2013 - You missed #BTC\\n...</td>\n",
       "    </tr>\n",
       "    <tr>\n",
       "      <th>4</th>\n",
       "      <td>Tue Apr 05 01:18:58 +0000 2022</td>\n",
       "      <td>My profile is about to get verified on Sologen...</td>\n",
       "    </tr>\n",
       "  </tbody>\n",
       "</table>\n",
       "</div>"
      ],
      "text/plain": [
       "                          created  \\\n",
       "0  Tue Apr 05 01:19:00 +0000 2022   \n",
       "1  Tue Apr 05 01:19:00 +0000 2022   \n",
       "2  Tue Apr 05 01:19:00 +0000 2022   \n",
       "3  Tue Apr 05 01:18:58 +0000 2022   \n",
       "4  Tue Apr 05 01:18:58 +0000 2022   \n",
       "\n",
       "                                          tweet_text  \n",
       "0  RT @H_FinTech: The Lebanese government declare...  \n",
       "1  RT @TraderTenacious: Giving away 50 $strong to...  \n",
       "2                                      @GranMag0 XRP  \n",
       "3  RT @RealShibaDoge: ⚠️ 2013 - You missed #BTC\\n...  \n",
       "4  My profile is about to get verified on Sologen...  "
      ]
     },
     "execution_count": 50,
     "metadata": {},
     "output_type": "execute_result"
    }
   ],
   "source": [
    "df = pd.read_csv(\"tweet_Temp.csv\")\n",
    "df.head()"
   ]
  },
  {
   "cell_type": "code",
   "execution_count": 51,
   "metadata": {},
   "outputs": [],
   "source": [
    "import re\n",
    "\n",
    "def text_cleaning(text) :\n",
    "    english = re.compile('[^a-zA-Z]+')\n",
    "    result = english.sub('', text)\n",
    "    return result"
   ]
  },
  {
   "cell_type": "code",
   "execution_count": 52,
   "metadata": {},
   "outputs": [
    {
     "data": {
      "text/html": [
       "<div>\n",
       "<style scoped>\n",
       "    .dataframe tbody tr th:only-of-type {\n",
       "        vertical-align: middle;\n",
       "    }\n",
       "\n",
       "    .dataframe tbody tr th {\n",
       "        vertical-align: top;\n",
       "    }\n",
       "\n",
       "    .dataframe thead th {\n",
       "        text-align: right;\n",
       "    }\n",
       "</style>\n",
       "<table border=\"1\" class=\"dataframe\">\n",
       "  <thead>\n",
       "    <tr style=\"text-align: right;\">\n",
       "      <th></th>\n",
       "      <th>created</th>\n",
       "      <th>tweet_text</th>\n",
       "      <th>en_text</th>\n",
       "    </tr>\n",
       "  </thead>\n",
       "  <tbody>\n",
       "    <tr>\n",
       "      <th>0</th>\n",
       "      <td>Tue Apr 05 01:19:00 +0000 2022</td>\n",
       "      <td>RT @H_FinTech: The Lebanese government declare...</td>\n",
       "      <td>RTHFinTechTheLebanesegovernmentdeclaresthestat...</td>\n",
       "    </tr>\n",
       "    <tr>\n",
       "      <th>1</th>\n",
       "      <td>Tue Apr 05 01:19:00 +0000 2022</td>\n",
       "      <td>RT @TraderTenacious: Giving away 50 $strong to...</td>\n",
       "      <td>RTTraderTenaciousGivingawaystrongtokenstopeopl...</td>\n",
       "    </tr>\n",
       "    <tr>\n",
       "      <th>2</th>\n",
       "      <td>Tue Apr 05 01:19:00 +0000 2022</td>\n",
       "      <td>@GranMag0 XRP</td>\n",
       "      <td>GranMagXRP</td>\n",
       "    </tr>\n",
       "    <tr>\n",
       "      <th>3</th>\n",
       "      <td>Tue Apr 05 01:18:58 +0000 2022</td>\n",
       "      <td>RT @RealShibaDoge: ⚠️ 2013 - You missed #BTC\\n...</td>\n",
       "      <td>RTRealShibaDogeYoumissedBTCYoumissedDOGEYoumis...</td>\n",
       "    </tr>\n",
       "    <tr>\n",
       "      <th>4</th>\n",
       "      <td>Tue Apr 05 01:18:58 +0000 2022</td>\n",
       "      <td>My profile is about to get verified on Sologen...</td>\n",
       "      <td>MyprofileisabouttogetverifiedonSologenicthefir...</td>\n",
       "    </tr>\n",
       "  </tbody>\n",
       "</table>\n",
       "</div>"
      ],
      "text/plain": [
       "                          created  \\\n",
       "0  Tue Apr 05 01:19:00 +0000 2022   \n",
       "1  Tue Apr 05 01:19:00 +0000 2022   \n",
       "2  Tue Apr 05 01:19:00 +0000 2022   \n",
       "3  Tue Apr 05 01:18:58 +0000 2022   \n",
       "4  Tue Apr 05 01:18:58 +0000 2022   \n",
       "\n",
       "                                          tweet_text  \\\n",
       "0  RT @H_FinTech: The Lebanese government declare...   \n",
       "1  RT @TraderTenacious: Giving away 50 $strong to...   \n",
       "2                                      @GranMag0 XRP   \n",
       "3  RT @RealShibaDoge: ⚠️ 2013 - You missed #BTC\\n...   \n",
       "4  My profile is about to get verified on Sologen...   \n",
       "\n",
       "                                             en_text  \n",
       "0  RTHFinTechTheLebanesegovernmentdeclaresthestat...  \n",
       "1  RTTraderTenaciousGivingawaystrongtokenstopeopl...  \n",
       "2                                         GranMagXRP  \n",
       "3  RTRealShibaDogeYoumissedBTCYoumissedDOGEYoumis...  \n",
       "4  MyprofileisabouttogetverifiedonSologenicthefir...  "
      ]
     },
     "execution_count": 52,
     "metadata": {},
     "output_type": "execute_result"
    }
   ],
   "source": [
    "df['en_text'] = df['tweet_text'].apply(lambda x : text_cleaning(x))\n",
    "df.head()"
   ]
  },
  {
   "cell_type": "code",
   "execution_count": 53,
   "metadata": {},
   "outputs": [],
   "source": [
    "from konlpy.tag import Okt\n",
    "from collections import Counter\n",
    "\n",
    "english_stopwords_path = 'C:\\\\Users\\\\YONSAI\\\\Documents\\\\GitHub\\\\Yonsai_IT_Academy\\\\vscode\\\\python\\\\dataMining\\\\data\\\\english_stopwords.txt'\n",
    "with open(english_stopwords_path, encoding='utf8') as f:\n",
    "    stopwords = f.readlines()\n",
    "stopwords = [x.strip() for x in stopwords]\n",
    "\n",
    "def get_nouns(x) :\n",
    "    nouns_tagger = Okt()\n",
    "    nouns = nouns_tagger.nouns(x)\n",
    "    nouns = [noun for noun in nouns if len(noun) > 1]\n",
    "    nouns = [noun for noun in nouns if noun not in stopwords]\n",
    "    return nouns"
   ]
  },
  {
   "cell_type": "code",
   "execution_count": 54,
   "metadata": {},
   "outputs": [
    {
     "name": "stdout",
     "output_type": "stream",
     "text": [
      "(1000, 4)\n"
     ]
    },
    {
     "data": {
      "text/html": [
       "<div>\n",
       "<style scoped>\n",
       "    .dataframe tbody tr th:only-of-type {\n",
       "        vertical-align: middle;\n",
       "    }\n",
       "\n",
       "    .dataframe tbody tr th {\n",
       "        vertical-align: top;\n",
       "    }\n",
       "\n",
       "    .dataframe thead th {\n",
       "        text-align: right;\n",
       "    }\n",
       "</style>\n",
       "<table border=\"1\" class=\"dataframe\">\n",
       "  <thead>\n",
       "    <tr style=\"text-align: right;\">\n",
       "      <th></th>\n",
       "      <th>created</th>\n",
       "      <th>tweet_text</th>\n",
       "      <th>en_text</th>\n",
       "      <th>nouns</th>\n",
       "    </tr>\n",
       "  </thead>\n",
       "  <tbody>\n",
       "    <tr>\n",
       "      <th>0</th>\n",
       "      <td>Tue Apr 05 01:19:00 +0000 2022</td>\n",
       "      <td>RT @H_FinTech: The Lebanese government declare...</td>\n",
       "      <td>RTHFinTechTheLebanesegovernmentdeclaresthestat...</td>\n",
       "      <td>[]</td>\n",
       "    </tr>\n",
       "    <tr>\n",
       "      <th>1</th>\n",
       "      <td>Tue Apr 05 01:19:00 +0000 2022</td>\n",
       "      <td>RT @TraderTenacious: Giving away 50 $strong to...</td>\n",
       "      <td>RTTraderTenaciousGivingawaystrongtokenstopeopl...</td>\n",
       "      <td>[]</td>\n",
       "    </tr>\n",
       "    <tr>\n",
       "      <th>2</th>\n",
       "      <td>Tue Apr 05 01:19:00 +0000 2022</td>\n",
       "      <td>@GranMag0 XRP</td>\n",
       "      <td>GranMagXRP</td>\n",
       "      <td>[]</td>\n",
       "    </tr>\n",
       "    <tr>\n",
       "      <th>3</th>\n",
       "      <td>Tue Apr 05 01:18:58 +0000 2022</td>\n",
       "      <td>RT @RealShibaDoge: ⚠️ 2013 - You missed #BTC\\n...</td>\n",
       "      <td>RTRealShibaDogeYoumissedBTCYoumissedDOGEYoumis...</td>\n",
       "      <td>[]</td>\n",
       "    </tr>\n",
       "    <tr>\n",
       "      <th>4</th>\n",
       "      <td>Tue Apr 05 01:18:58 +0000 2022</td>\n",
       "      <td>My profile is about to get verified on Sologen...</td>\n",
       "      <td>MyprofileisabouttogetverifiedonSologenicthefir...</td>\n",
       "      <td>[]</td>\n",
       "    </tr>\n",
       "  </tbody>\n",
       "</table>\n",
       "</div>"
      ],
      "text/plain": [
       "                          created  \\\n",
       "0  Tue Apr 05 01:19:00 +0000 2022   \n",
       "1  Tue Apr 05 01:19:00 +0000 2022   \n",
       "2  Tue Apr 05 01:19:00 +0000 2022   \n",
       "3  Tue Apr 05 01:18:58 +0000 2022   \n",
       "4  Tue Apr 05 01:18:58 +0000 2022   \n",
       "\n",
       "                                          tweet_text  \\\n",
       "0  RT @H_FinTech: The Lebanese government declare...   \n",
       "1  RT @TraderTenacious: Giving away 50 $strong to...   \n",
       "2                                      @GranMag0 XRP   \n",
       "3  RT @RealShibaDoge: ⚠️ 2013 - You missed #BTC\\n...   \n",
       "4  My profile is about to get verified on Sologen...   \n",
       "\n",
       "                                             en_text nouns  \n",
       "0  RTHFinTechTheLebanesegovernmentdeclaresthestat...    []  \n",
       "1  RTTraderTenaciousGivingawaystrongtokenstopeopl...    []  \n",
       "2                                         GranMagXRP    []  \n",
       "3  RTRealShibaDogeYoumissedBTCYoumissedDOGEYoumis...    []  \n",
       "4  MyprofileisabouttogetverifiedonSologenicthefir...    []  "
      ]
     },
     "execution_count": 54,
     "metadata": {},
     "output_type": "execute_result"
    }
   ],
   "source": [
    "df['nouns'] = df['en_text'].apply(lambda x : get_nouns(x))\n",
    "print(df.shape)\n",
    "df.head()"
   ]
  },
  {
   "cell_type": "code",
   "execution_count": 55,
   "metadata": {},
   "outputs": [
    {
     "name": "stdout",
     "output_type": "stream",
     "text": [
      "RelationRecord(items=frozenset({'bitcoin'}), support=0.6666666666666666, ordered_statistics=[OrderedStatistic(items_base=frozenset(), items_add=frozenset({'bitcoin'}), confidence=0.6666666666666666, lift=1.0)])\n",
      "RelationRecord(items=frozenset({'ripple'}), support=0.3333333333333333, ordered_statistics=[OrderedStatistic(items_base=frozenset(), items_add=frozenset({'ripple'}), confidence=0.3333333333333333, lift=1.0)])\n",
      "RelationRecord(items=frozenset({'sec'}), support=0.3333333333333333, ordered_statistics=[OrderedStatistic(items_base=frozenset(), items_add=frozenset({'sec'}), confidence=0.3333333333333333, lift=1.0)])\n",
      "RelationRecord(items=frozenset({'xrp'}), support=1.0, ordered_statistics=[OrderedStatistic(items_base=frozenset(), items_add=frozenset({'xrp'}), confidence=1.0, lift=1.0)])\n",
      "RelationRecord(items=frozenset({'bitcoin', 'sec'}), support=0.3333333333333333, ordered_statistics=[OrderedStatistic(items_base=frozenset(), items_add=frozenset({'bitcoin', 'sec'}), confidence=0.3333333333333333, lift=1.0), OrderedStatistic(items_base=frozenset({'bitcoin'}), items_add=frozenset({'sec'}), confidence=0.5, lift=1.5), OrderedStatistic(items_base=frozenset({'sec'}), items_add=frozenset({'bitcoin'}), confidence=1.0, lift=1.5)])\n",
      "RelationRecord(items=frozenset({'bitcoin', 'xrp'}), support=0.6666666666666666, ordered_statistics=[OrderedStatistic(items_base=frozenset(), items_add=frozenset({'bitcoin', 'xrp'}), confidence=0.6666666666666666, lift=1.0), OrderedStatistic(items_base=frozenset({'bitcoin'}), items_add=frozenset({'xrp'}), confidence=1.0, lift=1.0), OrderedStatistic(items_base=frozenset({'xrp'}), items_add=frozenset({'bitcoin'}), confidence=0.6666666666666666, lift=1.0)])\n",
      "RelationRecord(items=frozenset({'xrp', 'ripple'}), support=0.3333333333333333, ordered_statistics=[OrderedStatistic(items_base=frozenset(), items_add=frozenset({'xrp', 'ripple'}), confidence=0.3333333333333333, lift=1.0), OrderedStatistic(items_base=frozenset({'ripple'}), items_add=frozenset({'xrp'}), confidence=1.0, lift=1.0), OrderedStatistic(items_base=frozenset({'xrp'}), items_add=frozenset({'ripple'}), confidence=0.3333333333333333, lift=1.0)])\n",
      "RelationRecord(items=frozenset({'sec', 'xrp'}), support=0.3333333333333333, ordered_statistics=[OrderedStatistic(items_base=frozenset(), items_add=frozenset({'sec', 'xrp'}), confidence=0.3333333333333333, lift=1.0), OrderedStatistic(items_base=frozenset({'sec'}), items_add=frozenset({'xrp'}), confidence=1.0, lift=1.0), OrderedStatistic(items_base=frozenset({'xrp'}), items_add=frozenset({'sec'}), confidence=0.3333333333333333, lift=1.0)])\n",
      "RelationRecord(items=frozenset({'bitcoin', 'sec', 'xrp'}), support=0.3333333333333333, ordered_statistics=[OrderedStatistic(items_base=frozenset(), items_add=frozenset({'bitcoin', 'sec', 'xrp'}), confidence=0.3333333333333333, lift=1.0), OrderedStatistic(items_base=frozenset({'bitcoin'}), items_add=frozenset({'sec', 'xrp'}), confidence=0.5, lift=1.5), OrderedStatistic(items_base=frozenset({'sec'}), items_add=frozenset({'bitcoin', 'xrp'}), confidence=1.0, lift=1.5), OrderedStatistic(items_base=frozenset({'xrp'}), items_add=frozenset({'bitcoin', 'sec'}), confidence=0.3333333333333333, lift=1.0), OrderedStatistic(items_base=frozenset({'bitcoin', 'sec'}), items_add=frozenset({'xrp'}), confidence=1.0, lift=1.0), OrderedStatistic(items_base=frozenset({'bitcoin', 'xrp'}), items_add=frozenset({'sec'}), confidence=0.5, lift=1.5), OrderedStatistic(items_base=frozenset({'sec', 'xrp'}), items_add=frozenset({'bitcoin'}), confidence=1.0, lift=1.5)])\n"
     ]
    }
   ],
   "source": [
    "from apyori import apriori\n",
    "\n",
    "transactions = [['xrp', 'ripple'],['xrp','bitcoin'],['xrp','bitcoin','sec']]\n",
    "\n",
    "results = list(apriori(transactions))\n",
    "for result in results :\n",
    "    print(result)"
   ]
  },
  {
   "cell_type": "code",
   "execution_count": 56,
   "metadata": {},
   "outputs": [
    {
     "data": {
      "text/plain": [
       "[RelationRecord(items=frozenset({'bitcoin'}), support=0.6666666666666666, ordered_statistics=[OrderedStatistic(items_base=frozenset(), items_add=frozenset({'bitcoin'}), confidence=0.6666666666666666, lift=1.0)]),\n",
       " RelationRecord(items=frozenset({'xrp'}), support=1.0, ordered_statistics=[OrderedStatistic(items_base=frozenset(), items_add=frozenset({'xrp'}), confidence=1.0, lift=1.0)]),\n",
       " RelationRecord(items=frozenset({'bitcoin', 'xrp'}), support=0.6666666666666666, ordered_statistics=[OrderedStatistic(items_base=frozenset(), items_add=frozenset({'bitcoin', 'xrp'}), confidence=0.6666666666666666, lift=1.0), OrderedStatistic(items_base=frozenset({'bitcoin'}), items_add=frozenset({'xrp'}), confidence=1.0, lift=1.0), OrderedStatistic(items_base=frozenset({'xrp'}), items_add=frozenset({'bitcoin'}), confidence=0.6666666666666666, lift=1.0)])]"
      ]
     },
     "execution_count": 56,
     "metadata": {},
     "output_type": "execute_result"
    }
   ],
   "source": [
    "list(apriori(transactions, min_support=0.5, min_confidence=0.6, min_lift=1.0, max_length=2))\n"
   ]
  },
  {
   "cell_type": "code",
   "execution_count": 58,
   "metadata": {},
   "outputs": [
    {
     "name": "stdout",
     "output_type": "stream",
     "text": [
      "[]\n"
     ]
    }
   ],
   "source": [
    "transactions = df['nouns'].tolist()\n",
    "transactions = [transaction for transaction in transactions if transaction]\n",
    "\n",
    "print(transactions)"
   ]
  },
  {
   "cell_type": "code",
   "execution_count": null,
   "metadata": {},
   "outputs": [],
   "source": []
  },
  {
   "cell_type": "code",
   "execution_count": null,
   "metadata": {},
   "outputs": [],
   "source": []
  }
 ],
 "metadata": {
  "interpreter": {
   "hash": "b3ba2566441a7c06988d0923437866b63cedc61552a5af99d1f4fb67d367b25f"
  },
  "kernelspec": {
   "display_name": "Python 3.9.7 ('base')",
   "language": "python",
   "name": "python3"
  },
  "language_info": {
   "codemirror_mode": {
    "name": "ipython",
    "version": 3
   },
   "file_extension": ".py",
   "mimetype": "text/x-python",
   "name": "python",
   "nbconvert_exporter": "python",
   "pygments_lexer": "ipython3",
   "version": "3.9.7"
  },
  "orig_nbformat": 4
 },
 "nbformat": 4,
 "nbformat_minor": 2
}
