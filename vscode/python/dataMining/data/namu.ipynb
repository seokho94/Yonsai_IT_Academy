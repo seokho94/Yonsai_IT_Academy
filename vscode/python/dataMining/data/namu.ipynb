{
 "cells": [
  {
   "cell_type": "code",
   "execution_count": null,
   "metadata": {},
   "outputs": [],
   "source": [
    "%matplotlib inline\n",
    "\n",
    "import pandas as pd\n",
    "import numpy as np\n",
    "import matplotlib.pyplot as plt\n",
    "\n",
    "import warnings\n",
    "warnings.filterwarnings(\"ignore\")"
   ]
  },
  {
   "cell_type": "code",
   "execution_count": 12,
   "metadata": {},
   "outputs": [],
   "source": [
    "from selenium import webdriver\n",
    "from bs4 import BeautifulSoup\n",
    "import urllib.request\n",
    "import re\n",
    "import time\n",
    "\n",
    "excutable_path = 'chromedriver.exe'\n",
    "\n",
    "source_url = \"https://namu.wiki/RecentChanges\"\n",
    "\n",
    "driver = webdriver.Chrome(executable_path = excutable_path)\n",
    "driver.get(source_url)\n",
    "req = driver.page_source\n",
    "soup = BeautifulSoup(req, 'html.parser')\n",
    "contents_table = soup.find(\"table\")\n",
    "table_body = contents_table.find('tbody')\n",
    "table_rows = table_body.find_all('tr')"
   ]
  },
  {
   "cell_type": "code",
   "execution_count": null,
   "metadata": {},
   "outputs": [],
   "source": [
    "page_url_base = \"https://namu.wiki\"\n",
    "page_urls = []\n",
    "for index in range(0, len(table_rows)):\n",
    "    first_td = table_rows[index].find_all(\"td\")[0]\n",
    "    td_url = first_td.find_all(\"a\")\n",
    "    if len(td_url) > 0:\n",
    "        page_url = page_url_base + td_url[0].get(\"href\")\n",
    "        if \"png\" not in page_url:\n",
    "            page_urls.append(page_url)\n",
    "            \n",
    "page_urls = list(set(page_urls))\n",
    "for page in page_urls[:5] :\n",
    "    print(page)\n",
    "    \n",
    "driver.close()"
   ]
  },
  {
   "cell_type": "code",
   "execution_count": null,
   "metadata": {},
   "outputs": [],
   "source": [
    "driver = webdriver.Chrome(executable_path=excutable_path)\n",
    "driver.get(page_url[0])\n",
    "req = driver.page_source\n",
    "soup = BeautifulSoup(req, 'html.parser')\n",
    "contents_table = soup.find(name='article')\n",
    "title = contents_table.find_all('h1')[0]\n",
    "category = contents_table.find_all('ul')[0]\n",
    "content_pargraphs = contents_table.find_all(name=\"div\", attrs={\"class\" : \"wiki-paragraph\"})\n",
    "content_corpus_list = []\n",
    "\n",
    "for paragraphs in content_pargraphs :\n",
    "    content_corpus_list.append(paragraphs.text)\n",
    "content_corpus = \"\".join(content_corpus_list)\n",
    "\n",
    "print(title.text)\n",
    "print(\"\\n\")\n",
    "print(category.text)\n",
    "print(\"\\n\")\n",
    "print(content_corpus)\n",
    "\n",
    "driver.close()"
   ]
  }
 ],
 "metadata": {
  "interpreter": {
   "hash": "b3ba2566441a7c06988d0923437866b63cedc61552a5af99d1f4fb67d367b25f"
  },
  "kernelspec": {
   "display_name": "Python 3.9.7 ('base')",
   "language": "python",
   "name": "python3"
  },
  "language_info": {
   "codemirror_mode": {
    "name": "ipython",
    "version": 3
   },
   "file_extension": ".py",
   "mimetype": "text/x-python",
   "name": "python",
   "nbconvert_exporter": "python",
   "pygments_lexer": "ipython3",
   "version": "3.9.7"
  },
  "orig_nbformat": 4
 },
 "nbformat": 4,
 "nbformat_minor": 2
}
