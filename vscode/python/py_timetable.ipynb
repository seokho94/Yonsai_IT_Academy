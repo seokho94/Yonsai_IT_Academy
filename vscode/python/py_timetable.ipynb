{
 "cells": [
  {
   "cell_type": "code",
   "execution_count": 1,
   "metadata": {},
   "outputs": [
    {
     "name": "stdout",
     "output_type": "stream",
     "text": [
      "--- 학원 시간표 ---\n",
      "    월요일 수요일 금요일\n",
      "1교시  국어  영어    \n",
      "2교시  수학  영어  수학\n",
      "3교시      수학  국어\n",
      "\n",
      "--- 수정된 학원 시간표 ---\n",
      "    월요일 수요일 금요일\n",
      "1교시  국어  영어   X\n",
      "2교시  수학  영어  수학\n",
      "3교시   X  수학  국어\n",
      "\n",
      "--- 수요일 영어만 있는 시간표 ---\n",
      "1교시     True\n",
      "2교시     True\n",
      "3교시    False\n",
      "Name: 수요일, dtype: bool\n"
     ]
    }
   ],
   "source": [
    "import pandas as pd\n",
    "\n",
    "월  = pd.Series({'1교시' : '국어', '2교시' : '수학', '3교시' : ''})\n",
    "수  = pd.Series({'1교시' : '영어', '2교시' : '영어', '3교시' : '수학'})\n",
    "금  = pd.Series({'1교시' : '', '2교시' : '수학', '3교시' : '국어'})\n",
    "\n",
    "학원시간표 = pd.DataFrame({\n",
    "    '월요일' : 월,\n",
    "    '수요일' : 수,\n",
    "    '금요일' : 금\n",
    "})\n",
    "\n",
    "print('--- 학원 시간표 ---')\n",
    "print(학원시간표)\n",
    "\n",
    "학원시간표.to_csv('학원시간표.csv')\n",
    "\n",
    "학원시간표_정리 = pd.read_csv('학원시간표.csv', index_col = 0, header = 0)\n",
    "\n",
    "학원시간표_정리.loc['3교시']['월요일'] = 'X'\n",
    "학원시간표_정리.iloc[0][2] = 'X'\n",
    "\n",
    "print('\\n--- 수정된 학원 시간표 ---')\n",
    "print(학원시간표_정리)\n",
    "\n",
    "print('\\n--- 수요일 영어만 있는 시간표 ---')\n",
    "print(학원시간표_정리['수요일'] == '영어')"
   ]
  }
 ],
 "metadata": {
  "interpreter": {
   "hash": "341b3760ba24fccd3919d62a5a3f22a2c288a64a3bf2a5b2e8880b3a735e02c5"
  },
  "kernelspec": {
   "display_name": "Python 3.10.2 64-bit",
   "language": "python",
   "name": "python3"
  },
  "language_info": {
   "codemirror_mode": {
    "name": "ipython",
    "version": 3
   },
   "file_extension": ".py",
   "mimetype": "text/x-python",
   "name": "python",
   "nbconvert_exporter": "python",
   "pygments_lexer": "ipython3",
   "version": "3.10.2"
  },
  "orig_nbformat": 4
 },
 "nbformat": 4,
 "nbformat_minor": 2
}
