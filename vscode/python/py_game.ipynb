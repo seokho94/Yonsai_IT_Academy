{
 "cells": [
  {
   "cell_type": "code",
   "execution_count": 12,
   "metadata": {},
   "outputs": [
    {
     "ename": "KeyboardInterrupt",
     "evalue": "",
     "output_type": "error",
     "traceback": [
      "\u001b[1;31m---------------------------------------------------------------------------\u001b[0m",
      "\u001b[1;31mKeyboardInterrupt\u001b[0m                         Traceback (most recent call last)",
      "\u001b[1;32mc:\\Users\\YONSAI\\Documents\\GitHub\\Yonsai_IT_Academy\\vscode\\python\\py_Game.ipynb Cell 1'\u001b[0m in \u001b[0;36m<cell line: 43>\u001b[1;34m()\u001b[0m\n\u001b[0;32m     <a href='vscode-notebook-cell:/c%3A/Users/YONSAI/Documents/GitHub/Yonsai_IT_Academy/vscode/python/py_Game.ipynb#ch0000000?line=38'>39</a>\u001b[0m         mb\u001b[39m.\u001b[39mshowinfo(title \u001b[39m=\u001b[39m \u001b[39m'\u001b[39m\u001b[39m결과\u001b[39m\u001b[39m'\u001b[39m, message \u001b[39m=\u001b[39m \u001b[39m'\u001b[39m\u001b[39m당신이 이겼습니다!\u001b[39m\u001b[39m'\u001b[39m)\n\u001b[0;32m     <a href='vscode-notebook-cell:/c%3A/Users/YONSAI/Documents/GitHub/Yonsai_IT_Academy/vscode/python/py_Game.ipynb#ch0000000?line=39'>40</a>\u001b[0m         레이블3\u001b[39m.\u001b[39mconfig(text \u001b[39m=\u001b[39m \u001b[39m'\u001b[39m\u001b[39m-\u001b[39m\u001b[39m'\u001b[39m)\n\u001b[1;32m---> <a href='vscode-notebook-cell:/c%3A/Users/YONSAI/Documents/GitHub/Yonsai_IT_Academy/vscode/python/py_Game.ipynb#ch0000000?line=42'>43</a>\u001b[0m 게임화면\u001b[39m.\u001b[39;49mmainloop()\n",
      "File \u001b[1;32m~\\AppData\\Local\\Programs\\Python\\Python310\\lib\\tkinter\\__init__.py:1458\u001b[0m, in \u001b[0;36mMisc.mainloop\u001b[1;34m(self, n)\u001b[0m\n\u001b[0;32m   <a href='file:///c%3A/Users/YONSAI/AppData/Local/Programs/Python/Python310/lib/tkinter/__init__.py?line=1455'>1456</a>\u001b[0m \u001b[39mdef\u001b[39;00m \u001b[39mmainloop\u001b[39m(\u001b[39mself\u001b[39m, n\u001b[39m=\u001b[39m\u001b[39m0\u001b[39m):\n\u001b[0;32m   <a href='file:///c%3A/Users/YONSAI/AppData/Local/Programs/Python/Python310/lib/tkinter/__init__.py?line=1456'>1457</a>\u001b[0m     \u001b[39m\"\"\"Call the mainloop of Tk.\"\"\"\u001b[39;00m\n\u001b[1;32m-> <a href='file:///c%3A/Users/YONSAI/AppData/Local/Programs/Python/Python310/lib/tkinter/__init__.py?line=1457'>1458</a>\u001b[0m     \u001b[39mself\u001b[39;49m\u001b[39m.\u001b[39;49mtk\u001b[39m.\u001b[39;49mmainloop(n)\n",
      "\u001b[1;31mKeyboardInterrupt\u001b[0m: "
     ]
    }
   ],
   "source": [
    "import tkinter as tk\n",
    "from random import *\n",
    "\n",
    "게임화면  = tk.Tk()\n",
    "게임화면.title('묵찌빠 게임')\n",
    "게임화면.geometry(\"250x350\")\n",
    "\n",
    "레이블1 = tk.Label(master= 게임화면, text='컴퓨터', font=('Arial',15))\n",
    "레이블1.place(x=0, y=0, width=150, height=50)\n",
    "\n",
    "레이블2 = tk.Label(master= 게임화면, text='나', font=('Arial',15))\n",
    "레이블2.place(x=200, y=0, width=150, height=50)\n",
    "\n",
    "레이블3 = tk.Label(master= 게임화면, text='-', font=('Arial',30), bg=\"red\", fg=\"white\")\n",
    "레이블3.place(x=0, y=50, width=150, height=150)\n",
    "\n",
    "레이블4 = tk.Label(master= 게임화면, text='VS', font=('Arial',20))\n",
    "레이블4.place(x=150, y=50, width=50, height=150)\n",
    "\n",
    "버튼1 = tk.Button(master = 게임화면, text='묵', font=('Arial', 10), command=lambda:컴퓨터선택(1))\n",
    "버튼1.place(x=200, y=50, width=150, height=50)\n",
    "\n",
    "버튼2 = tk.Button(master = 게임화면, text='찌', font=('Arial', 10), command=lambda:컴퓨터선택(2))\n",
    "버튼2.place(x=200, y=100, width=150, height=50)\n",
    "\n",
    "버튼3 = tk.Button(master = 게임화면, text='빠', font=('Arial', 10), command=lambda:컴퓨터선택(3))\n",
    "버튼3.place(x=200, y=150, width=150, height=50)\n",
    "\n",
    "from tkinter import messagebox as mb\n",
    "\n",
    "def 컴퓨터선택(사용자의선택) :\n",
    "    global 레이블3\n",
    "    묵찌빠 = {1:'묵', 2:'찌', 3:'빠'}\n",
    "    \n",
    "    컴퓨터의선택 = randint(1, 3)\n",
    "    레이블3.config(text = 묵찌빠[컴퓨터의선택])\n",
    "    \n",
    "    if 컴퓨터의선택 == 사용자의선택:\n",
    "        mb.showinfo(title = '결과', message = '당신이 이겼습니다!')\n",
    "        레이블3.config(text = '-')\n",
    "        \n",
    "        \n",
    "게임화면.mainloop()"
   ]
  }
 ],
 "metadata": {
  "interpreter": {
   "hash": "341b3760ba24fccd3919d62a5a3f22a2c288a64a3bf2a5b2e8880b3a735e02c5"
  },
  "kernelspec": {
   "display_name": "Python 3.10.2 64-bit",
   "language": "python",
   "name": "python3"
  },
  "language_info": {
   "codemirror_mode": {
    "name": "ipython",
    "version": 3
   },
   "file_extension": ".py",
   "mimetype": "text/x-python",
   "name": "python",
   "nbconvert_exporter": "python",
   "pygments_lexer": "ipython3",
   "version": "3.10.2"
  },
  "orig_nbformat": 4
 },
 "nbformat": 4,
 "nbformat_minor": 2
}
