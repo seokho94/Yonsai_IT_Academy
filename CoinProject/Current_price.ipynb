{
 "cells": [
  {
   "cell_type": "code",
   "execution_count": 2,
   "metadata": {},
   "outputs": [],
   "source": [
    "import pandas as pd\n",
    "import pyupbit as upbit\n",
    "from threading import Thread\n"
   ]
  },
  {
   "cell_type": "code",
   "execution_count": 12,
   "metadata": {},
   "outputs": [],
   "source": [
    "##Top_coin -> UI에 출력하기 위한 코인 이름과 심볼에 대한 Dictionary\n",
    "##Target_coin -> 필요한 정보들 호출을 위한 리스트\n",
    "Top_coin = {\"BTC\" : \"비트코인\" , \"ETH\" : \"이더리움\", \"XRP\" : \"리플\", \"SOL\" : \"솔라나\", \"ADA\" : \"에이다\", \"DOGE\" : \"도지코인\", \"AVAX\" : \"아발란체\",  \"DOT\" : \"폴카닷\", \"TRX\" : \"트론\", \"MATIC\" : \"폴리곤\"}\n",
    "Target_coin = [\"KRW-BTC\",\"KRW-ETH\",\"KRW-XRP\",\"KRW-SOL\",\"KRW-ADA\",\"KRW-DOGE\",\"KRW-AVAX\",\"KRW-DOT\",\"KRW-TRX\",\"KRW-MATIC\"]\n"
   ]
  },
  {
   "cell_type": "code",
   "execution_count": 19,
   "metadata": {},
   "outputs": [],
   "source": [
    "##current Price 호출 함수\n",
    "def Call_current() :\n",
    "    current_price = []\n",
    "    for target in Target_coin :\n",
    "        current_price.append(upbit.get_current_price([target]))\n",
    "    \n",
    "    print(current_price)"
   ]
  },
  {
   "cell_type": "code",
   "execution_count": 24,
   "metadata": {},
   "outputs": [],
   "source": [
    "\n",
    "##증감계산식 : (현재가 - 전날종가) / 전날종가 * 100\n",
    "def Rate_current() :\n",
    "    rate_current = []\n",
    "    for target in Target_coin :\n",
    "        rate_current.append((upbit.get_current_price([target])))    "
   ]
  },
  {
   "cell_type": "code",
   "execution_count": null,
   "metadata": {},
   "outputs": [],
   "source": [
    "##pyupbit volume 값을 활용하여 거래대금 호출"
   ]
  }
 ],
 "metadata": {
  "interpreter": {
   "hash": "ad2bdc8ecc057115af97d19610ffacc2b4e99fae6737bb82f5d7fb13d2f2c186"
  },
  "kernelspec": {
   "display_name": "Python 3.9.7 ('base')",
   "language": "python",
   "name": "python3"
  },
  "language_info": {
   "codemirror_mode": {
    "name": "ipython",
    "version": 3
   },
   "file_extension": ".py",
   "mimetype": "text/x-python",
   "name": "python",
   "nbconvert_exporter": "python",
   "pygments_lexer": "ipython3",
   "version": "3.9.7"
  },
  "orig_nbformat": 4
 },
 "nbformat": 4,
 "nbformat_minor": 2
}
