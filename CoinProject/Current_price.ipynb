{
 "cells": [
  {
   "cell_type": "code",
   "execution_count": 47,
   "metadata": {},
   "outputs": [],
   "source": [
    "import pandas as pd\n",
    "import pyupbit as upbit\n",
    "from threading import Thread\n",
    "from datetime import datetime"
   ]
  },
  {
   "cell_type": "code",
   "execution_count": 48,
   "metadata": {},
   "outputs": [],
   "source": [
    "##Top_coin -> UI에 출력하기 위한 코인 이름과 심볼에 대한 Dictionary\n",
    "##Target_coin -> 필요한 정보들 호출을 위한 리스트\n",
    "Top_coin = {\"BTC\" : \"비트코인\" , \"ETH\" : \"이더리움\", \"XRP\" : \"리플\", \"SOL\" : \"솔라나\", \"ADA\" : \"에이다\", \"DOGE\" : \"도지코인\", \"AVAX\" : \"아발란체\",  \"DOT\" : \"폴카닷\", \"TRX\" : \"트론\", \"MATIC\" : \"폴리곤\"}\n",
    "Target_coin = [\"KRW-BTC\",\"KRW-ETH\",\"KRW-XRP\",\"KRW-SOL\",\"KRW-ADA\",\"KRW-DOGE\",\"KRW-AVAX\",\"KRW-DOT\",\"KRW-TRX\",\"KRW-MATIC\"]\n"
   ]
  },
  {
   "cell_type": "code",
   "execution_count": 49,
   "metadata": {},
   "outputs": [],
   "source": [
    "##current Price 호출 함수\n",
    "def Call_current(target) :\n",
    "    return upbit.get_current_price([target])"
   ]
  },
  {
   "cell_type": "code",
   "execution_count": 50,
   "metadata": {},
   "outputs": [],
   "source": [
    "\n",
    "##증감계산식 : (현재가 - 전날종가) / 전날종가 * 100\n",
    "def Rate_current(target) :\n",
    "    close_price = Yesterday_price(target)\n",
    "    return ((upbit.get_current_price([target])-close_price)/close_price)*100"
   ]
  },
  {
   "cell_type": "code",
   "execution_count": 51,
   "metadata": {},
   "outputs": [],
   "source": [
    "##전날 종가를 출력\n",
    "def Yesterday_price(target) :\n",
    "    ticker = target\n",
    "    interval = 'day'\n",
    "    to = datetime.today().strftime('%Y-%m-%d')\n",
    "    count = 1\n",
    "    target = upbit.get_ohlcv(ticker=ticker, interval=interval, to=to, count = count)\n",
    "    close_price = target['close']\n",
    "    return close_price[0]"
   ]
  },
  {
   "cell_type": "code",
   "execution_count": 52,
   "metadata": {},
   "outputs": [],
   "source": [
    "##pyupbit volume 값을 활용하여 거래대금 호출\n",
    "def Today_volume(target) :\n",
    "    ticker = target\n",
    "    interval = 'minute1'\n",
    "    count = 1\n",
    "    target = upbit.get_ohlcv(ticker=ticker, interval=interval, count = count)\n",
    "    Volume = target['volume']\n",
    "    return Volume"
   ]
  },
  {
   "cell_type": "code",
   "execution_count": 60,
   "metadata": {},
   "outputs": [],
   "source": [
    "##코인 이름과 심볼 출력\n",
    "def print_name():\n",
    "    for target in Target_coin :\n",
    "        name = target[4:]\n",
    "        print(Top_coin[name],name)\n",
    "        "
   ]
  }
 ],
 "metadata": {
  "interpreter": {
   "hash": "ad2bdc8ecc057115af97d19610ffacc2b4e99fae6737bb82f5d7fb13d2f2c186"
  },
  "kernelspec": {
   "display_name": "Python 3.9.7 ('base')",
   "language": "python",
   "name": "python3"
  },
  "language_info": {
   "codemirror_mode": {
    "name": "ipython",
    "version": 3
   },
   "file_extension": ".py",
   "mimetype": "text/x-python",
   "name": "python",
   "nbconvert_exporter": "python",
   "pygments_lexer": "ipython3",
   "version": "3.9.7"
  },
  "orig_nbformat": 4
 },
 "nbformat": 4,
 "nbformat_minor": 2
}
